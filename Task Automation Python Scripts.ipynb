{
 "cells": [
  {
   "cell_type": "code",
   "execution_count": null,
   "id": "b34fb14c",
   "metadata": {},
   "outputs": [],
   "source": [
    "import os\n",
    "import shutil\n",
    "\n",
    "source_folder = r\"C:\\Users\\GILLANI\\Pictures\"\n",
    "\n",
    "destination_folders = {\n",
    "    \"Images\": [\".jpg\", \".jpeg\", \".png\", \".gif\"],\n",
    "    \"Documents\": [\".pdf\", \".docx\", \".txt\"],\n",
    "    \"Videos\": [\".mp4\", \".mkv\", \".avi\"],\n",
    "    \"Compressed\": [\".zip\", \".rar\", \".7z\"],\n",
    "    \"Executables\": [\".exe\"]\n",
    "}\n",
    "\n",
    "for folder in destination_folders.keys():\n",
    "    os.makedirs(os.path.join(source_folder, folder), exist_ok=True)\n",
    "\n",
    "\n",
    "for file in os.listdir(source_folder):\n",
    "    file_path = os.path.join(source_folder, file)\n",
    "    \n",
    "    if os.path.isfile(file_path):  \n",
    "        for folder, extensions in destination_folders.items():\n",
    "            if any(file.lower().endswith(ext) for ext in extensions):\n",
    "                shutil.move(file_path, os.path.join(source_folder, folder, file))\n",
    "                print(f\"Moved: {file} → {folder}\")\n",
    "\n",
    "print(\"File organization completed successfully!\")\n"
   ]
  }
 ],
 "metadata": {
  "kernelspec": {
   "display_name": "Python 3 (ipykernel)",
   "language": "python",
   "name": "python3"
  },
  "language_info": {
   "codemirror_mode": {
    "name": "ipython",
    "version": 3
   },
   "file_extension": ".py",
   "mimetype": "text/x-python",
   "name": "python",
   "nbconvert_exporter": "python",
   "pygments_lexer": "ipython3",
   "version": "3.9.13"
  }
 },
 "nbformat": 4,
 "nbformat_minor": 5
}
